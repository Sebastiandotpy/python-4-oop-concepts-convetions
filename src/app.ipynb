{
 "cells": [
  {
   "cell_type": "code",
   "execution_count": 6,
   "metadata": {},
   "outputs": [
    {
     "name": "stdout",
     "output_type": "stream",
     "text": [
      "\u001b[34m5 fish are swimming. Their eyes are \u001b[36mblue\u001b[34m and their skin is \u001b[36mred\u001b[34m.\u001b[0m\n",
      "\u001b[34mThere are \u001b[33m0 dead fish with them in the aquarium.\u001b[0m\n",
      "\u001b[34mThe fish have now been swimming \u001b[32m1 times.\u001b[0m\n",
      "\u001b[31m2 fish have died.\u001b[0m\n",
      "\u001b[34m3 fish are swimming. Their eyes are \u001b[36mblue\u001b[34m and their skin is \u001b[36mred\u001b[34m.\u001b[0m\n",
      "\u001b[34mThere are \u001b[33m2 dead fish with them in the aquarium.\u001b[0m\n",
      "\u001b[34mThe fish have now been swimming \u001b[32m2 times.\u001b[0m\n",
      "\u001b[31mA fish has died.\u001b[0m\n",
      "\u001b[34m2 fish are swimming. Their eyes are \u001b[36mblue\u001b[34m and their skin is \u001b[36mred\u001b[34m.\u001b[0m\n",
      "\u001b[34mThere are \u001b[33m3 dead fish with them in the aquarium.\u001b[0m\n",
      "\u001b[34mThe fish have now been swimming \u001b[32m3 times.\u001b[0m\n",
      "\u001b[31m2 fish have died.\u001b[0m\n",
      "\u001b[34mThere are no alive fish left.\u001b[0m\n",
      "\u001b[34mAll fish are dead.\n",
      "GAME OVER\n",
      "=====\u001b[0m\n"
     ]
    }
   ],
   "source": [
    "class AquariumApp:\n",
    "    def __init__(self, initial_fish_count, eye_color, skin_color):\n",
    "        self.skin_color = skin_color\n",
    "        self.private_swim_count = 0\n",
    "        self.eye_color = eye_color\n",
    "        self.protected_dead_fish = 0\n",
    "        self.fish_count = initial_fish_count\n",
    "\n",
    "    def start(self):\n",
    "        if self.fish_count == 0:\n",
    "            return \"\\033[34mThere are no alive fish left.\\033[0m\"\n",
    "        \n",
    "        self.private_swim_count += 1\n",
    "        \n",
    "        output = (\n",
    "            f\"\\033[34m{self.fish_count} fish are swimming. Their eyes are \\033[36m{self.eye_color}\\033[34m and their skin is \\033[36m{self.skin_color}\\033[34m.\\033[0m\\n\"\n",
    "            f\"\\033[34mThere are \\033[33m{self.protected_dead_fish} dead fish with them in the aquarium.\\033[0m\\n\"\n",
    "            f\"\\033[34mThe fish have now been swimming \\033[32m{self.private_swim_count} times.\\033[0m\"\n",
    "        )\n",
    "        \n",
    "        return output\n",
    "\n",
    "    def die_fish(self, num_to_die):\n",
    "        if self.fish_count == 0:\n",
    "            return \"\\033[34mAll fish are dead.\\nGAME OVER\\n=====\\033[0m\"\n",
    "        \n",
    "        self.fish_count -= num_to_die\n",
    "        self.protected_dead_fish += num_to_die\n",
    "\n",
    "        if num_to_die > 1:\n",
    "            return f\"\\033[31m{num_to_die} fish have died.\\033[0m\"\n",
    "        else:\n",
    "            return \"\\033[31mA fish has died.\\033[0m\"\n",
    "\n",
    "\n",
    "def run_aquarium():\n",
    "    initial_fish_count = 5\n",
    "    eye_color = \"blue\"\n",
    "    skin_color = \"red\"\n",
    "\n",
    "    aquarium = AquariumApp(initial_fish_count, eye_color, skin_color)\n",
    "    \n",
    "    print(aquarium.start())\n",
    "    print(aquarium.die_fish(2))\n",
    "    print(aquarium.start())\n",
    "    print(aquarium.die_fish(1))\n",
    "    print(aquarium.start())\n",
    "    print(aquarium.die_fish(2))\n",
    "    print(aquarium.start())\n",
    "    print(aquarium.die_fish(1))\n",
    "\n",
    "\n",
    "if __name__ == \"__main__\":\n",
    "    run_aquarium()\n",
    "\n"
   ]
  },
  {
   "cell_type": "markdown",
   "metadata": {},
   "source": []
  }
 ],
 "metadata": {
  "kernelspec": {
   "display_name": "venv",
   "language": "python",
   "name": "python3"
  },
  "language_info": {
   "codemirror_mode": {
    "name": "ipython",
    "version": 3
   },
   "file_extension": ".py",
   "mimetype": "text/x-python",
   "name": "python",
   "nbconvert_exporter": "python",
   "pygments_lexer": "ipython3",
   "version": "3.11.4"
  },
  "orig_nbformat": 4
 },
 "nbformat": 4,
 "nbformat_minor": 2
}
